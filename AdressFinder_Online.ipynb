{
  "nbformat": 4,
  "nbformat_minor": 0,
  "metadata": {
    "colab": {
      "name": "AdressFinder-Online.ipynb",
      "provenance": [],
      "authorship_tag": "ABX9TyN3Ve9Dy3ZciwcGNYPjA6lh",
      "include_colab_link": true
    },
    "kernelspec": {
      "name": "ir",
      "display_name": "R"
    },
    "language_info": {
      "name": "R"
    }
  },
  "cells": [
    {
      "cell_type": "markdown",
      "metadata": {
        "id": "view-in-github",
        "colab_type": "text"
      },
      "source": [
        "<a href=\"https://colab.research.google.com/github/andersonnb6/AdressFinder-Online/blob/main/AdressFinder_Online.ipynb\" target=\"_parent\"><img src=\"https://colab.research.google.com/assets/colab-badge.svg\" alt=\"Open In Colab\"/></a>"
      ]
    },
    {
      "cell_type": "code",
      "source": [
        "# Package names\n",
        "packages <- c(\"dplyr\", \"cepR\", \"RCurl\")\n",
        "\n",
        "# Install packages not yet installed\n",
        "installed_packages <- packages %in% rownames(installed.packages())\n",
        "if (any(installed_packages == FALSE)) {\n",
        "  install.packages(packages[!installed_packages])\n",
        "}\n",
        "\n",
        "# Packages loading\n",
        "invisible(lapply(packages, library, character.only = TRUE))"
      ],
      "metadata": {
        "id": "sbqaD8AANH9A"
      },
      "execution_count": 13,
      "outputs": []
    },
    {
      "cell_type": "code",
      "source": [
        "# Carregando funções\n",
        "sleep_sec <- function(x) { # Gerar uma espera de tempo\n",
        "  p1 <- proc.time()\n",
        "  Sys.sleep(x)\n",
        "  proc.time() - p1 \n",
        "}"
      ],
      "metadata": {
        "id": "BpGWtaLBPIfM"
      },
      "execution_count": 9,
      "outputs": []
    },
    {
      "cell_type": "code",
      "source": [
        "# Limpando ambiente e setando opções\n",
        "rm(list=ls()) # limpando ambiente\n",
        "options(scipen=999) # desabilitando notação científica\n",
        "options(warn = -1) # ignorando warnings"
      ],
      "metadata": {
        "id": "nablxFpANncP"
      },
      "execution_count": null,
      "outputs": []
    },
    {
      "cell_type": "code",
      "source": [
        "# Carregando o banco de dados\n",
        "download <- getURL(\"https://raw.githubusercontent.com/andersonnb6/RScripts/main/CEP_finder/consulta_online/input_file.csv\")\n",
        "df <- read.csv(text = download)\n",
        "df"
      ],
      "metadata": {
        "id": "XvZz8OPSTJ09"
      },
      "execution_count": null,
      "outputs": []
    },
    {
      "cell_type": "code",
      "execution_count": null,
      "metadata": {
        "id": "MsswBxaIFKBj"
      },
      "outputs": [],
      "source": [
        "# Listas onde serão armazenados os resultados\n",
        "line <- c()\n",
        "identifier <- c()\n",
        "state <- c()\n",
        "city <- c()\n",
        "district <- c()\n",
        "public_area <- c()\n",
        "latitude <- c()\n",
        "longitude <- c()\n",
        "\n",
        "# Loop buscador de CEP\n",
        "for (i in 1:nrow(df)) {\n",
        "\n",
        "  # consulta no site https://cepaberto.com/\n",
        "  adress <- busca_cep(cep=paste(df$CEP[i]), token = 'a8c99e5231f62500e671cd64a8617825')\n",
        "  \n",
        "  # Espera de 1.3 segundos até a próxima consulta\n",
        "  sleep_sec(1.3)\n",
        "  \n",
        "  # Armazenando resultados da consulta\n",
        "  identifier <- append(df$IDENTIFICADOR[i],identifier)\n",
        "  state <-  append(adress$estado,state)\n",
        "  city <-  append(adress$cidade,city)\n",
        "  district <- append(adress$bairro,district)\n",
        "  public_area <- append(adress$logradouro, public_area)\n",
        "  latitude <- append(adress$latitude, latitude)\n",
        "  longitude <- append(adress$longitude, longitude)\n",
        "  line <- append(i, line)\n",
        "  \n",
        "  # Mostrando resultado (etapa) obtida no momento\n",
        "  print(paste(line[1], identifier[1], state[1], city[1], district[1], latitude[1], longitude[1], sep = \"    \"))\n",
        "}"
      ]
    },
    {
      "cell_type": "code",
      "source": [
        "# Criando tabela final\n",
        "final_table <- data.frame(line, identifier, state, city, district, public_area, latitude, longitude)\n",
        "\n",
        "# Mostrando a tabela\n",
        "print(final_table)\n",
        "\n",
        "# Salvando resultados tabulados\n",
        "write.csv(final_table, file = \"output_file.csv\",sep = \",\",quote = FALSE,row.names = FALSE, col.names = FALSE)"
      ],
      "metadata": {
        "id": "Z0G0wjDKTSxd"
      },
      "execution_count": null,
      "outputs": []
    }
  ]
}