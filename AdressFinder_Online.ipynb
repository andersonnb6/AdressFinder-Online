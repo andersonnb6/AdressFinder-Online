{
  "nbformat": 4,
  "nbformat_minor": 0,
  "metadata": {
    "colab": {
      "name": "AdressFinder-Online.ipynb",
      "provenance": [],
      "authorship_tag": "ABX9TyPHGo/C9gGbEnDT7zDGK6rT",
      "include_colab_link": true
    },
    "kernelspec": {
      "name": "ir",
      "display_name": "R"
    },
    "language_info": {
      "name": "R"
    }
  },
  "cells": [
    {
      "cell_type": "markdown",
      "metadata": {
        "id": "view-in-github",
        "colab_type": "text"
      },
      "source": [
        "<a href=\"https://colab.research.google.com/github/andersonnb6/AdressFinder-Online/blob/main/AdressFinder_Online.ipynb\" target=\"_parent\"><img src=\"https://colab.research.google.com/assets/colab-badge.svg\" alt=\"Open In Colab\"/></a>"
      ]
    },
    {
      "cell_type": "markdown",
      "source": [
        "# **AdressFinder-Online**  \n",
        "Constitui-se de um buscador de endereços, desenvolvido em linguagem R, baseado na consulta online do Código de Endereçamento Postal (CEP) contra banco de dados diponível no site https://cepaberto.com/."
      ],
      "metadata": {
        "id": "ht0w-1ckYmLr"
      }
    },
    {
      "cell_type": "markdown",
      "source": [
        "### Pré-requesitos\n",
        "\n",
        "*   Credenciamento no site https://cepaberto.com/.\n",
        "*   Gerar token de acesso ao banco de dados.\n",
        "*   Ter uma tabela de CEPs em formato .csv ([exemplo](https://raw.githubusercontent.com/andersonnb6/AdressFinder-Online/main/CepTable_example.csv)).\n",
        "\n"
      ],
      "metadata": {
        "id": "kaEJZJ0IcBjX"
      }
    },
    {
      "cell_type": "markdown",
      "source": [
        "### Definindo token de acesso banco de dados\n",
        "Adicione o token a variável abaixo."
      ],
      "metadata": {
        "id": "5TeBqk98Y1Yb"
      }
    },
    {
      "cell_type": "code",
      "source": [
        "token_key = 'a8c99e5231f62500e671cd64a8617825'"
      ],
      "metadata": {
        "id": "-3-l5gJ0ZFFC"
      },
      "execution_count": 39,
      "outputs": []
    },
    {
      "cell_type": "markdown",
      "source": [
        "### Definindo opções"
      ],
      "metadata": {
        "id": "IxPYJH4WYB5W"
      }
    },
    {
      "cell_type": "code",
      "source": [
        "options(scipen=999) # desabilitando notação científica\n",
        "options(warn = -1) # ignorando warnings"
      ],
      "metadata": {
        "id": "nablxFpANncP"
      },
      "execution_count": 40,
      "outputs": []
    },
    {
      "cell_type": "markdown",
      "source": [
        "### Carregando pacotes"
      ],
      "metadata": {
        "id": "H2HZdaoxYMQ5"
      }
    },
    {
      "cell_type": "code",
      "source": [
        "# Package names\n",
        "packages <- c(\"dplyr\", \"cepR\", \"RCurl\")\n",
        "\n",
        "# Install packages not yet installed\n",
        "installed_packages <- packages %in% rownames(installed.packages())\n",
        "if (any(installed_packages == FALSE)) {\n",
        "  install.packages(packages[!installed_packages])\n",
        "}\n",
        "\n",
        "# Packages loading\n",
        "invisible(lapply(packages, library, character.only = TRUE))"
      ],
      "metadata": {
        "id": "sbqaD8AANH9A"
      },
      "execution_count": 41,
      "outputs": []
    },
    {
      "cell_type": "markdown",
      "source": [
        "### Carregando funções"
      ],
      "metadata": {
        "id": "e9WRF157YUm1"
      }
    },
    {
      "cell_type": "code",
      "source": [
        "sleep_sec <- function(x) { # Gerar uma espera de tempo\n",
        "  p1 <- proc.time()\n",
        "  Sys.sleep(x)\n",
        "  proc.time() - p1 \n",
        "}"
      ],
      "metadata": {
        "id": "BpGWtaLBPIfM"
      },
      "execution_count": 42,
      "outputs": []
    },
    {
      "cell_type": "markdown",
      "source": [
        "### Carregando banco de dados"
      ],
      "metadata": {
        "id": "ZP_1w8fLYX5x"
      }
    },
    {
      "cell_type": "code",
      "source": [
        "# Carregando o banco de dados\n",
        "cep_table <- getURL(\"https://raw.githubusercontent.com/andersonnb6/AdressFinder-Online/main/CepTable_example.csv\")\n",
        "df <- read.csv(text = cep_table)\n",
        "df"
      ],
      "metadata": {
        "id": "XvZz8OPSTJ09",
        "colab": {
          "base_uri": "https://localhost:8080/",
          "height": 192
        },
        "outputId": "4fe70291-9550-4a81-9e4b-4c93341344ec"
      },
      "execution_count": 43,
      "outputs": [
        {
          "output_type": "display_data",
          "data": {
            "text/plain": [
              "  IDENTIFICADOR CEP     \n",
              "1 cep001        69027190\n",
              "2 cep002        69027010\n",
              "3 cep003        69027100"
            ],
            "text/latex": "A data.frame: 3 × 2\n\\begin{tabular}{ll}\n IDENTIFICADOR & CEP\\\\\n <chr> & <int>\\\\\n\\hline\n\t cep001 & 69027190\\\\\n\t cep002 & 69027010\\\\\n\t cep003 & 69027100\\\\\n\\end{tabular}\n",
            "text/markdown": "\nA data.frame: 3 × 2\n\n| IDENTIFICADOR &lt;chr&gt; | CEP &lt;int&gt; |\n|---|---|\n| cep001 | 69027190 |\n| cep002 | 69027010 |\n| cep003 | 69027100 |\n\n",
            "text/html": [
              "<table class=\"dataframe\">\n",
              "<caption>A data.frame: 3 × 2</caption>\n",
              "<thead>\n",
              "\t<tr><th scope=col>IDENTIFICADOR</th><th scope=col>CEP</th></tr>\n",
              "\t<tr><th scope=col>&lt;chr&gt;</th><th scope=col>&lt;int&gt;</th></tr>\n",
              "</thead>\n",
              "<tbody>\n",
              "\t<tr><td>cep001</td><td>69027190</td></tr>\n",
              "\t<tr><td>cep002</td><td>69027010</td></tr>\n",
              "\t<tr><td>cep003</td><td>69027100</td></tr>\n",
              "</tbody>\n",
              "</table>\n"
            ]
          },
          "metadata": {}
        }
      ]
    },
    {
      "cell_type": "markdown",
      "source": [
        "### Executando busca e gerando resultados\n",
        "De acordo com a politica do site [cepaberto.com](cepaberto.com), exite um limite de busca por período de tempo. Portanto, cada busca será realizada no intervalo de 1.5s, significando que o tempo de execução desta etapa será proporcional ao número de consultas a serem realizadas. Ao término será mostrada todas as consultas realizadas. Além disso, será gerado um arquivo .csv com todos os resultados."
      ],
      "metadata": {
        "id": "40-9adSiYeD-"
      }
    },
    {
      "cell_type": "code",
      "execution_count": 45,
      "metadata": {
        "id": "MsswBxaIFKBj",
        "colab": {
          "base_uri": "https://localhost:8080/"
        },
        "outputId": "e38020cb-ba81-4663-8ee8-b19e7f50b809"
      },
      "outputs": [
        {
          "output_type": "stream",
          "name": "stdout",
          "text": [
            "  line identifier      cep state   city     district          public_area\n",
            "1    3     cep003 69027100    AM Manaus São Raimundo Rua Jerônimo Ribeiro\n",
            "2    2     cep002 69027010    AM Manaus São Raimundo    Rua 5 de Setembro\n",
            "3    1     cep001 69027190    AM Manaus São Raimundo   Rua Jurandir Diola\n",
            "   latitude longitude\n",
            "1 -3.122456 -60.03975\n",
            "2 -3.127157 -60.03766\n",
            "3 -3.124641 -60.04185\n"
          ]
        }
      ],
      "source": [
        "# Listas onde serão armazenados os resultados\n",
        "line <- c()\n",
        "identifier <- c()\n",
        "cep <- c()\n",
        "state <- c()\n",
        "city <- c()\n",
        "district <- c()\n",
        "public_area <- c()\n",
        "latitude <- c()\n",
        "longitude <- c()\n",
        "\n",
        "# Loop buscador de CEP\n",
        "for (i in 1:nrow(df)) {\n",
        "\n",
        "  # consulta no site https://cepaberto.com/\n",
        "  adress <- busca_cep(cep=paste(df$CEP[i]), token = token_key)\n",
        "  \n",
        "  # Espera de 1.5 segundos até a próxima consulta\n",
        "  sleep_sec(1.5)\n",
        "  \n",
        "  # Armazenando resultados da consulta\n",
        "  identifier <- append(df$IDENTIFICADOR[i],identifier)\n",
        "  cep <- append(df$CEP[i],cep)\n",
        "  state <-  append(adress$estado,state)\n",
        "  city <-  append(adress$cidade,city)\n",
        "  district <- append(adress$bairro,district)\n",
        "  public_area <- append(adress$logradouro, public_area)\n",
        "  latitude <- append(adress$latitude, latitude)\n",
        "  longitude <- append(adress$longitude, longitude)\n",
        "  line <- append(i, line)\n",
        "  \n",
        "  # Mostrando resultado (etapa) obtida no momento\n",
        "  # Descomente a linha abaixo para acompanhar o andamento quando estiver executando fora do COLAB\n",
        "  ##print(paste(line[1], identifier[1], state[1], city[1], district[1], latitude[1], longitude[1], sep = \"    \"))\n",
        "}\n",
        "\n",
        "# Criando tabela final\n",
        "final_table <- data.frame(line, identifier, cep, state, city, district, public_area, latitude, longitude)\n",
        "\n",
        "# Mostrando a tabela\n",
        "print(final_table)\n",
        "\n",
        "# Salvando resultados tabulados\n",
        "write.csv(final_table, file = \"output_file.csv\",sep = \",\",quote = FALSE,row.names = FALSE, col.names = FALSE)"
      ]
    }
  ]
}