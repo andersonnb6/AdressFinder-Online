{
  "nbformat": 4,
  "nbformat_minor": 0,
  "metadata": {
    "colab": {
      "name": "AdressFinder-Online.ipynb",
      "provenance": [],
      "authorship_tag": "ABX9TyOFDYVQ97WmjaV1ev3RZYW/",
      "include_colab_link": true
    },
    "kernelspec": {
      "name": "ir",
      "display_name": "R"
    },
    "language_info": {
      "name": "R"
    }
  },
  "cells": [
    {
      "cell_type": "markdown",
      "metadata": {
        "id": "view-in-github",
        "colab_type": "text"
      },
      "source": [
        "<a href=\"https://colab.research.google.com/github/andersonnb6/AdressFinder-Online/blob/main/AdressFinder_Online.ipynb\" target=\"_parent\"><img src=\"https://colab.research.google.com/assets/colab-badge.svg\" alt=\"Open In Colab\"/></a>"
      ]
    },
    {
      "cell_type": "markdown",
      "source": [
        "# **AdressFinder-Online**  \n",
        "Constitui-se de um buscador de endereços desenvolvido em linguagem R.  \n",
        "Este buscador se baseia na consulta online do Código de Endereçamento Postal (CEP) ao banco de dados diponível no site https://cepaberto.com/."
      ],
      "metadata": {
        "id": "ht0w-1ckYmLr"
      }
    },
    {
      "cell_type": "markdown",
      "source": [
        "### Requesitos para o uso\n",
        "\n",
        "*   Credenciamento no site https://cepaberto.com/.\n",
        "*   Gerar token de acesso ao banco de dados.\n",
        "*   Ter uma lista de CEPs em formato .csv ([exemplo](https://www.exemplo.com)).\n",
        "\n"
      ],
      "metadata": {
        "id": "kaEJZJ0IcBjX"
      }
    },
    {
      "cell_type": "markdown",
      "source": [
        "### Definindo token de acesso banco de dados\n",
        "*Adicione o token a variável abaixo.*"
      ],
      "metadata": {
        "id": "5TeBqk98Y1Yb"
      }
    },
    {
      "cell_type": "code",
      "source": [
        "token_key = 'a8c99e5231f62500e671cd64a8617825'"
      ],
      "metadata": {
        "id": "-3-l5gJ0ZFFC"
      },
      "execution_count": null,
      "outputs": []
    },
    {
      "cell_type": "markdown",
      "source": [
        "### Limpando o ambiente e definindo opções"
      ],
      "metadata": {
        "id": "IxPYJH4WYB5W"
      }
    },
    {
      "cell_type": "code",
      "source": [
        "rm(list=ls()) # limpando ambiente\n",
        "options(scipen=999) # desabilitando notação científica\n",
        "options(warn = -1) # ignorando warnings"
      ],
      "metadata": {
        "id": "nablxFpANncP"
      },
      "execution_count": 19,
      "outputs": []
    },
    {
      "cell_type": "markdown",
      "source": [
        "### Carregando pacotes"
      ],
      "metadata": {
        "id": "H2HZdaoxYMQ5"
      }
    },
    {
      "cell_type": "code",
      "source": [
        "# Package names\n",
        "packages <- c(\"dplyr\", \"cepR\", \"RCurl\")\n",
        "\n",
        "# Install packages not yet installed\n",
        "installed_packages <- packages %in% rownames(installed.packages())\n",
        "if (any(installed_packages == FALSE)) {\n",
        "  install.packages(packages[!installed_packages])\n",
        "}\n",
        "\n",
        "# Packages loading\n",
        "invisible(lapply(packages, library, character.only = TRUE))"
      ],
      "metadata": {
        "id": "sbqaD8AANH9A"
      },
      "execution_count": 20,
      "outputs": []
    },
    {
      "cell_type": "markdown",
      "source": [
        "### Carregando funções"
      ],
      "metadata": {
        "id": "e9WRF157YUm1"
      }
    },
    {
      "cell_type": "code",
      "source": [
        "sleep_sec <- function(x) { # Gerar uma espera de tempo\n",
        "  p1 <- proc.time()\n",
        "  Sys.sleep(x)\n",
        "  proc.time() - p1 \n",
        "}"
      ],
      "metadata": {
        "id": "BpGWtaLBPIfM"
      },
      "execution_count": 21,
      "outputs": []
    },
    {
      "cell_type": "markdown",
      "source": [
        "### Carregando banco de dados"
      ],
      "metadata": {
        "id": "ZP_1w8fLYX5x"
      }
    },
    {
      "cell_type": "code",
      "source": [
        "# Carregando o banco de dados\n",
        "download <- getURL(\"https://raw.githubusercontent.com/andersonnb6/RScripts/main/CEP_finder/consulta_online/input_file.csv\")\n",
        "df <- read.csv(text = download)\n",
        "df"
      ],
      "metadata": {
        "id": "XvZz8OPSTJ09"
      },
      "execution_count": null,
      "outputs": []
    },
    {
      "cell_type": "markdown",
      "source": [
        "### Executando busca e gerando resultados"
      ],
      "metadata": {
        "id": "40-9adSiYeD-"
      }
    },
    {
      "cell_type": "code",
      "execution_count": null,
      "metadata": {
        "id": "MsswBxaIFKBj"
      },
      "outputs": [],
      "source": [
        "# Listas onde serão armazenados os resultados\n",
        "line <- c()\n",
        "identifier <- c()\n",
        "state <- c()\n",
        "city <- c()\n",
        "district <- c()\n",
        "public_area <- c()\n",
        "latitude <- c()\n",
        "longitude <- c()\n",
        "\n",
        "# Loop buscador de CEP\n",
        "for (i in 1:nrow(df)) {\n",
        "\n",
        "  # consulta no site https://cepaberto.com/\n",
        "  adress <- busca_cep(cep=paste(df$CEP[i]), token = token_key)\n",
        "  \n",
        "  # Espera de 1.3 segundos até a próxima consulta\n",
        "  sleep_sec(1.3)\n",
        "  \n",
        "  # Armazenando resultados da consulta\n",
        "  identifier <- append(df$IDENTIFICADOR[i],identifier)\n",
        "  state <-  append(adress$estado,state)\n",
        "  city <-  append(adress$cidade,city)\n",
        "  district <- append(adress$bairro,district)\n",
        "  public_area <- append(adress$logradouro, public_area)\n",
        "  latitude <- append(adress$latitude, latitude)\n",
        "  longitude <- append(adress$longitude, longitude)\n",
        "  line <- append(i, line)\n",
        "  \n",
        "  # Mostrando resultado (etapa) obtida no momento\n",
        "  # (Descomente a linha abaixo para acompanhar o andamento quando estiver executando fora do COLAB)\n",
        "  ##print(paste(line[1], identifier[1], state[1], city[1], district[1], latitude[1], longitude[1], sep = \"    \"))\n",
        "}\n",
        "\n",
        "# Criando tabela final\n",
        "final_table <- data.frame(line, identifier, state, city, district, public_area, latitude, longitude)\n",
        "\n",
        "# Mostrando a tabela\n",
        "print(final_table)\n",
        "\n",
        "# Salvando resultados tabulados\n",
        "write.csv(final_table, file = \"output_file.csv\",sep = \",\",quote = FALSE,row.names = FALSE, col.names = FALSE)"
      ]
    }
  ]
}