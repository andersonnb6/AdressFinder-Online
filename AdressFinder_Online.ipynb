{
  "nbformat": 4,
  "nbformat_minor": 0,
  "metadata": {
    "colab": {
      "name": "AdressFinder-Online.ipynb",
      "provenance": [],
      "authorship_tag": "ABX9TyMgoogUMPq0q8Aue64z3Jnd",
      "include_colab_link": true
    },
    "kernelspec": {
      "name": "ir",
      "display_name": "R"
    },
    "language_info": {
      "name": "R"
    }
  },
  "cells": [
    {
      "cell_type": "markdown",
      "metadata": {
        "id": "view-in-github",
        "colab_type": "text"
      },
      "source": [
        "<a href=\"https://colab.research.google.com/github/andersonnb6/AdressFinder-Online/blob/main/AdressFinder_Online.ipynb\" target=\"_parent\"><img src=\"https://colab.research.google.com/assets/colab-badge.svg\" alt=\"Open In Colab\"/></a>"
      ]
    },
    {
      "cell_type": "markdown",
      "source": [
        "# **AdressFinder-Online**  \n",
        "Constitui-se de um buscador de endereços desenvolvido em linguagem R.  \n",
        "Este buscador se baseia na consulta online do Código de Endereçamento Postal (CEP) ao banco de dados diponível no site https://cepaberto.com/."
      ],
      "metadata": {
        "id": "ht0w-1ckYmLr"
      }
    },
    {
      "cell_type": "markdown",
      "source": [
        "### Pré-requesitos\n",
        "\n",
        "*   Credenciamento no site https://cepaberto.com/.\n",
        "*   Gerar token de acesso ao banco de dados.\n",
        "*   Ter uma tabela de CEPs em formato .csv ([exemplo](https://raw.githubusercontent.com/andersonnb6/AdressFinder-Online/main/CepTable_example.csv)).\n",
        "\n"
      ],
      "metadata": {
        "id": "kaEJZJ0IcBjX"
      }
    },
    {
      "cell_type": "markdown",
      "source": [
        "### Definindo token de acesso banco de dados\n",
        "Adicione o token a variável abaixo."
      ],
      "metadata": {
        "id": "5TeBqk98Y1Yb"
      }
    },
    {
      "cell_type": "code",
      "source": [
        "token_key = 'a8c99e5231f62500e671cd64a8617825'"
      ],
      "metadata": {
        "id": "-3-l5gJ0ZFFC"
      },
      "execution_count": 33,
      "outputs": []
    },
    {
      "cell_type": "markdown",
      "source": [
        "### Definindo opções"
      ],
      "metadata": {
        "id": "IxPYJH4WYB5W"
      }
    },
    {
      "cell_type": "code",
      "source": [
        "options(scipen=999) # desabilitando notação científica\n",
        "options(warn = -1) # ignorando warnings"
      ],
      "metadata": {
        "id": "nablxFpANncP"
      },
      "execution_count": 34,
      "outputs": []
    },
    {
      "cell_type": "markdown",
      "source": [
        "### Carregando pacotes"
      ],
      "metadata": {
        "id": "H2HZdaoxYMQ5"
      }
    },
    {
      "cell_type": "code",
      "source": [
        "# Package names\n",
        "packages <- c(\"dplyr\", \"cepR\", \"RCurl\")\n",
        "\n",
        "# Install packages not yet installed\n",
        "installed_packages <- packages %in% rownames(installed.packages())\n",
        "if (any(installed_packages == FALSE)) {\n",
        "  install.packages(packages[!installed_packages])\n",
        "}\n",
        "\n",
        "# Packages loading\n",
        "invisible(lapply(packages, library, character.only = TRUE))"
      ],
      "metadata": {
        "id": "sbqaD8AANH9A"
      },
      "execution_count": 35,
      "outputs": []
    },
    {
      "cell_type": "markdown",
      "source": [
        "### Carregando funções"
      ],
      "metadata": {
        "id": "e9WRF157YUm1"
      }
    },
    {
      "cell_type": "code",
      "source": [
        "sleep_sec <- function(x) { # Gerar uma espera de tempo\n",
        "  p1 <- proc.time()\n",
        "  Sys.sleep(x)\n",
        "  proc.time() - p1 \n",
        "}"
      ],
      "metadata": {
        "id": "BpGWtaLBPIfM"
      },
      "execution_count": 36,
      "outputs": []
    },
    {
      "cell_type": "markdown",
      "source": [
        "### Carregando banco de dados"
      ],
      "metadata": {
        "id": "ZP_1w8fLYX5x"
      }
    },
    {
      "cell_type": "code",
      "source": [
        "# Carregando o banco de dados\n",
        "cep_table <- getURL(\"https://raw.githubusercontent.com/andersonnb6/AdressFinder-Online/main/CepTable_example.csv\")\n",
        "df <- read.csv(text = cep_table)\n",
        "df"
      ],
      "metadata": {
        "id": "XvZz8OPSTJ09"
      },
      "execution_count": null,
      "outputs": []
    },
    {
      "cell_type": "markdown",
      "source": [
        "### Executando busca e gerando resultados\n",
        "De acordo com a politica do site [cepaberto.com](cepaberto.com), exite um limite de busca por período de tempo. Portanto, cada busca será realizada no intervalo de 1.5s, significando que o tempo de execução desta etapa será proporcional ao número de consultas a serem realizadas. Ao término será mostrada todas as consultas realizadas. Além disso, será gerado um arquivo .csv com todos os resultados."
      ],
      "metadata": {
        "id": "40-9adSiYeD-"
      }
    },
    {
      "cell_type": "code",
      "execution_count": 38,
      "metadata": {
        "id": "MsswBxaIFKBj",
        "colab": {
          "base_uri": "https://localhost:8080/"
        },
        "outputId": "310f51a4-ae47-478c-8c76-1cd421b89112"
      },
      "outputs": [
        {
          "output_type": "stream",
          "name": "stdout",
          "text": [
            "   line identifier state   city           district\n",
            "1    14     HEM014    AM Manaus       São Raimundo\n",
            "2    13     HEM013    AM Manaus Colônia Terra Nova\n",
            "3    12     HEM012    AM Manaus       São Raimundo\n",
            "4    11     HEM011    AM Manaus       São Raimundo\n",
            "5    10     HEM010    AM Manaus Colônia Terra Nova\n",
            "6     9     HEM009    AM Manaus       São Raimundo\n",
            "7     8     HEM008    AM Manaus Colônia Terra Nova\n",
            "8     7     HEM007    AM Manaus Colônia Terra Nova\n",
            "9     6     HEM006    AM Manaus       São Raimundo\n",
            "10    5     HEM005    AM Manaus       São Raimundo\n",
            "11    4     HEM004  <NA>   <NA>               <NA>\n",
            "12    3     HEM003    AM Manaus       São Raimundo\n",
            "13    2     HEM002    AM Manaus       São Raimundo\n",
            "14    1     HEM001    AM Manaus       São Raimundo\n",
            "                     public_area  latitude longitude\n",
            "1             Avenida Rio Branco -3.103356 -60.02035\n",
            "2  Rua Professora Cândida Veigas -3.011043 -60.02017\n",
            "3                Rua São Vicente -3.123904 -60.04072\n",
            "4              Rua 5 de Setembro -3.127157 -60.03766\n",
            "5  Rua Professora Cândida Veigas -3.011043 -60.02017\n",
            "6             Avenida Rio Branco -3.103356 -60.02035\n",
            "7  Rua Professora Cândida Veigas -3.011043 -60.02017\n",
            "8  Rua Professora Cândida Veigas -3.011043 -60.02017\n",
            "9               Rua da Cachoeira -3.125168 -60.03809\n",
            "10               Rua Rego Barros -3.125584 -60.03789\n",
            "11                          <NA>        NA        NA\n",
            "12          Rua Jerônimo Ribeiro -3.122456 -60.03975\n",
            "13             Rua 5 de Setembro -3.127157 -60.03766\n",
            "14            Rua Jurandir Diola -3.124641 -60.04185\n"
          ]
        }
      ],
      "source": [
        "# Listas onde serão armazenados os resultados\n",
        "line <- c()\n",
        "identifier <- c()\n",
        "state <- c()\n",
        "city <- c()\n",
        "district <- c()\n",
        "public_area <- c()\n",
        "latitude <- c()\n",
        "longitude <- c()\n",
        "\n",
        "# Loop buscador de CEP\n",
        "for (i in 1:nrow(df)) {\n",
        "\n",
        "  # consulta no site https://cepaberto.com/\n",
        "  adress <- busca_cep(cep=paste(df$CEP[i]), token = token_key)\n",
        "  \n",
        "  # Espera de 1.5 segundos até a próxima consulta\n",
        "  sleep_sec(1.5)\n",
        "  \n",
        "  # Armazenando resultados da consulta\n",
        "  identifier <- append(df$IDENTIFICADOR[i],identifier)\n",
        "  state <-  append(adress$estado,state)\n",
        "  city <-  append(adress$cidade,city)\n",
        "  district <- append(adress$bairro,district)\n",
        "  public_area <- append(adress$logradouro, public_area)\n",
        "  latitude <- append(adress$latitude, latitude)\n",
        "  longitude <- append(adress$longitude, longitude)\n",
        "  line <- append(i, line)\n",
        "  \n",
        "  # Mostrando resultado (etapa) obtida no momento\n",
        "  # Descomente a linha abaixo para acompanhar o andamento quando estiver executando fora do COLAB\n",
        "  ##print(paste(line[1], identifier[1], state[1], city[1], district[1], latitude[1], longitude[1], sep = \"    \"))\n",
        "}\n",
        "\n",
        "# Criando tabela final\n",
        "final_table <- data.frame(line, identifier, state, city, district, public_area, latitude, longitude)\n",
        "\n",
        "# Mostrando a tabela\n",
        "print(final_table)\n",
        "\n",
        "# Salvando resultados tabulados\n",
        "write.csv(final_table, file = \"output_file.csv\",sep = \",\",quote = FALSE,row.names = FALSE, col.names = FALSE)"
      ]
    }
  ]
}