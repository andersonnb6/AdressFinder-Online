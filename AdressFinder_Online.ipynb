{
  "nbformat": 4,
  "nbformat_minor": 0,
  "metadata": {
    "colab": {
      "name": "AdressFinder-Online.ipynb",
      "provenance": [],
      "authorship_tag": "ABX9TyObNQmgQgqLhzNmVtu0LGt7",
      "include_colab_link": true
    },
    "kernelspec": {
      "name": "ir",
      "display_name": "R"
    },
    "language_info": {
      "name": "R"
    }
  },
  "cells": [
    {
      "cell_type": "markdown",
      "metadata": {
        "id": "view-in-github",
        "colab_type": "text"
      },
      "source": [
        "<a href=\"https://colab.research.google.com/github/andersonnb6/AdressFinder-Online/blob/main/AdressFinder_Online.ipynb\" target=\"_parent\"><img src=\"https://colab.research.google.com/assets/colab-badge.svg\" alt=\"Open In Colab\"/></a>"
      ]
    },
    {
      "cell_type": "code",
      "execution_count": null,
      "metadata": {
        "id": "MsswBxaIFKBj"
      },
      "outputs": [],
      "source": [
        "# Installing and opening 'zoo' package\n",
        "install.packages('zoo', repos = 'http://cran.rstudio.com/')\n",
        "library(\"zoo\")"
      ]
    }
  ]
}