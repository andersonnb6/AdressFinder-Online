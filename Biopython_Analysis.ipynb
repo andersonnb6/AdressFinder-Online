{
  "nbformat": 4,
  "nbformat_minor": 0,
  "metadata": {
    "colab": {
      "name": "Biopython-Analysis.ipynb",
      "provenance": [],
      "collapsed_sections": [],
      "authorship_tag": "ABX9TyMecptY29c10JLgUTocwUmt",
      "include_colab_link": true
    },
    "kernelspec": {
      "name": "python3",
      "display_name": "Python 3"
    },
    "language_info": {
      "name": "python"
    }
  },
  "cells": [
    {
      "cell_type": "markdown",
      "metadata": {
        "id": "view-in-github",
        "colab_type": "text"
      },
      "source": [
        "<a href=\"https://colab.research.google.com/github/andersonnb6/AdressFinder-Online/blob/main/Biopython_Analysis.ipynb\" target=\"_parent\"><img src=\"https://colab.research.google.com/assets/colab-badge.svg\" alt=\"Open In Colab\"/></a>"
      ]
    },
    {
      "cell_type": "markdown",
      "source": [
        "#Biopython-Analysis"
      ],
      "metadata": {
        "id": "lJtBveMBl5dx"
      }
    },
    {
      "cell_type": "markdown",
      "metadata": {
        "id": "fO6DQHUQnGcb"
      },
      "source": [
        "### Instalação do Módulo"
      ]
    },
    {
      "cell_type": "code",
      "execution_count": 1,
      "metadata": {
        "id": "3Fougp2pnGcg",
        "colab": {
          "base_uri": "https://localhost:8080/"
        },
        "outputId": "590e8bfd-e30a-46cc-d362-9c3526fc2805"
      },
      "outputs": [
        {
          "output_type": "stream",
          "name": "stdout",
          "text": [
            "Requirement already satisfied: biopython in /usr/local/lib/python3.7/dist-packages (1.79)\n",
            "Requirement already satisfied: numpy in /usr/local/lib/python3.7/dist-packages (from biopython) (1.21.5)\n"
          ]
        }
      ],
      "source": [
        "%pip install biopython"
      ]
    },
    {
      "cell_type": "markdown",
      "source": [
        "### Importação do módulo"
      ],
      "metadata": {
        "id": "przRVknwo2QC"
      }
    },
    {
      "cell_type": "code",
      "source": [
        "import Bio\n",
        "from Bio.Seq import Seq"
      ],
      "metadata": {
        "id": "wv_oKa0Tl4_h"
      },
      "execution_count": 9,
      "outputs": []
    },
    {
      "cell_type": "code",
      "source": [
        "seq_exemplo = Seq('GTCGAGGGTATAAATTCAGATTCAAATAGTAGTGTG')\n",
        "\n",
        "# Complemento (Fita complementar)\n",
        "seq_comp = seq_exemplo.complement()\n",
        "    \n",
        "# Reverso-Complemento (Fita complementar revertida)\n",
        "seq_revcomp = seq_exemplo.reverse_complement()\n",
        "\n",
        "# Transcrição (RNA)\n",
        "seq_rna = seq_exemplo.transcribe()\n",
        "\n",
        "# Tradução (Proteína)\n",
        "seq_proteina_rna = seq_rna.translate()\n",
        "\n",
        "print(seq_exemplo)\n",
        "print(seq_comp)\n",
        "print(seq_revcomp)\n",
        "print(seq_rna)\n",
        "print()\n",
        "print(seq_proteina_rna)\n",
        "print()"
      ],
      "metadata": {
        "colab": {
          "base_uri": "https://localhost:8080/"
        },
        "id": "trG_O6iNpFJ3",
        "outputId": "f77ae1db-24a2-42fc-f9b6-b1c16b3622ee"
      },
      "execution_count": 18,
      "outputs": [
        {
          "output_type": "stream",
          "name": "stdout",
          "text": [
            "GTCGAGGGTATAAATTCAGATTCAAATAGTAGTGTG\n",
            "CAGCTCCCATATTTAAGTCTAAGTTTATCATCACAC\n",
            "CACACTACTATTTGAATCTGAATTTATACCCTCGAC\n",
            "GUCGAGGGUAUAAAUUCAGAUUCAAAUAGUAGUGUG\n",
            "\n",
            "VEGINSDSNSSV\n",
            "\n"
          ]
        }
      ]
    }
  ]
}