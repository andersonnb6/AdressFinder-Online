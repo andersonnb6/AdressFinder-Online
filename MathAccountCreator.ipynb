{
  "nbformat": 4,
  "nbformat_minor": 0,
  "metadata": {
    "colab": {
      "name": "MathAccountCreator.ipynb",
      "provenance": [],
      "collapsed_sections": [],
      "authorship_tag": "ABX9TyNW7DUlqU5gInLkM/AivJmz",
      "include_colab_link": true
    },
    "kernelspec": {
      "name": "python3",
      "display_name": "Python 3"
    },
    "language_info": {
      "name": "python"
    }
  },
  "cells": [
    {
      "cell_type": "markdown",
      "metadata": {
        "id": "view-in-github",
        "colab_type": "text"
      },
      "source": [
        "<a href=\"https://colab.research.google.com/github/andersonnb6/AdressFinder-Online/blob/main/MathAccountCreator.ipynb\" target=\"_parent\"><img src=\"https://colab.research.google.com/assets/colab-badge.svg\" alt=\"Open In Colab\"/></a>"
      ]
    },
    {
      "cell_type": "markdown",
      "source": [
        "#MathAccountCreator"
      ],
      "metadata": {
        "id": "FIwGNPudJ6_l"
      }
    },
    {
      "cell_type": "code",
      "source": [
        "import random\n",
        "import numpy as np"
      ],
      "metadata": {
        "id": "WOuH39iDLZVy"
      },
      "execution_count": 9,
      "outputs": []
    },
    {
      "cell_type": "code",
      "execution_count": null,
      "metadata": {
        "id": "s-B0sjevJ51F"
      },
      "outputs": [],
      "source": [
        "# translates in https://michaelis.uol.com.br/moderno-ingles/simbolos-matematicos/\n",
        "\n",
        "# Parâmetros\n",
        "min_size_account = 3\n",
        "max_size_account = 7\n",
        "min_numb = 1\n",
        "max_numb = 20\n",
        "total_account = 100\n",
        "\n",
        "# Gerador de contas\n",
        "i = 0\n",
        "while i < total_account:\n",
        "  # Criando tamanho aleatório de termos na conta\n",
        "  aleatory_size_account = np.random.randint(min_size_account, max_size_account+1, 1)\n",
        "  \n",
        "  # Criando arrays com sinais de operação e números aleatórios\n",
        "  plus_minus = np.random.randint(2, size = aleatory_size_account)\n",
        "  aleatory_numbs = np.random.randint(1, 20, size = aleatory_size_account)\n",
        "\n",
        "  # Loop criador das contas com base nos arrays aleatórios\n",
        "  lst = []\n",
        "  pt = 0\n",
        "  for x in plus_minus:\n",
        "    if plus_minus[pt] == 1:\n",
        "      lst.append('+')\n",
        "    else:\n",
        "      lst.append('-')\n",
        "    lst.append(str(aleatory_numbs[pt]))\n",
        "    pt += 1\n",
        "  \n",
        "  # Adicionando o símbolo de igual\n",
        "  lst.append('=')\n",
        "  \n",
        "  # Printando resultados\n",
        "  result = ' '.join(lst)\n",
        "  print(result)\n",
        "\n",
        "  # Pointer do loop\n",
        "  i += 1"
      ]
    }
  ]
}